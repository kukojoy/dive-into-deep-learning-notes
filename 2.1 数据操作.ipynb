{
 "cells": [
  {
   "cell_type": "markdown",
   "id": "48f086b1",
   "metadata": {},
   "source": [
    "# **2.1 数据操作**"
   ]
  },
  {
   "cell_type": "markdown",
   "id": "fb805866",
   "metadata": {},
   "source": [
    "## **2.1.1 入门**"
   ]
  },
  {
   "cell_type": "code",
   "execution_count": 161,
   "id": "ffb14f5f",
   "metadata": {},
   "outputs": [],
   "source": [
    "import torch # 导入torch"
   ]
  },
  {
   "cell_type": "markdown",
   "id": "6d05a926",
   "metadata": {},
   "source": [
    "张量表示一个由数值组成的数组，这个数组可能有多个维度。零维张量也称为标量，是一个数字，如1、3、5。一维张量也成为向量（vector），如[1]、[1, 2, 3]。二维张量也称为矩阵（matrix），如[[1, 2], [3, 4]]、[[1, 2, 3]]、[[], [], []]。更高维度（即三维或三维以上）的数组统称为张量。"
   ]
  },
  {
   "cell_type": "markdown",
   "id": "1626490a",
   "metadata": {},
   "source": [
    "我们可以用arange方法创建一个向量："
   ]
  },
  {
   "cell_type": "code",
   "execution_count": 162,
   "id": "c3b2ead8",
   "metadata": {},
   "outputs": [
    {
     "data": {
      "text/plain": [
       "tensor([ 0,  1,  2,  3,  4,  5,  6,  7,  8,  9, 10, 11])"
      ]
     },
     "execution_count": 162,
     "metadata": {},
     "output_type": "execute_result"
    }
   ],
   "source": [
    "x = torch.arange(12)\n",
    "x"
   ]
  },
  {
   "cell_type": "markdown",
   "id": "c75a8262",
   "metadata": {},
   "source": [
    "通过shape属性访问张量的形状（也可以称为尺寸、维度信息）"
   ]
  },
  {
   "cell_type": "code",
   "execution_count": 163,
   "id": "ff749ece",
   "metadata": {},
   "outputs": [
    {
     "data": {
      "text/plain": [
       "torch.Size([12])"
      ]
     },
     "execution_count": 163,
     "metadata": {},
     "output_type": "execute_result"
    }
   ],
   "source": [
    "x.shape"
   ]
  },
  {
   "cell_type": "markdown",
   "id": "e9c0c539",
   "metadata": {},
   "source": [
    "如果只想知道张量中元素的总数，也就是数字标量的个数，可以使用numel方法："
   ]
  },
  {
   "cell_type": "code",
   "execution_count": 164,
   "id": "06d8cd0d",
   "metadata": {},
   "outputs": [
    {
     "data": {
      "text/plain": [
       "12"
      ]
     },
     "execution_count": 164,
     "metadata": {},
     "output_type": "execute_result"
    }
   ],
   "source": [
    "x.numel()"
   ]
  },
  {
   "cell_type": "markdown",
   "id": "774dfc9b",
   "metadata": {},
   "source": [
    "如果想改变张量的形状，而不改变元素的数量和值，可以使用reshape方法："
   ]
  },
  {
   "cell_type": "code",
   "execution_count": 165,
   "id": "1d627613",
   "metadata": {},
   "outputs": [
    {
     "data": {
      "text/plain": [
       "tensor([[ 0,  1,  2,  3],\n",
       "        [ 4,  5,  6,  7],\n",
       "        [ 8,  9, 10, 11]])"
      ]
     },
     "execution_count": 165,
     "metadata": {},
     "output_type": "execute_result"
    }
   ],
   "source": [
    "X = x.reshape(3, 4) # 三行四列\n",
    "X"
   ]
  },
  {
   "cell_type": "markdown",
   "id": "05cbeba4",
   "metadata": {},
   "source": [
    "使用reshape()时，可以省略一个维度的信息，不需要我们做除法，如X = x.reshape(-1, 4)或X = x.reshape(3, -1)"
   ]
  },
  {
   "cell_type": "code",
   "execution_count": 166,
   "id": "82a8fa16",
   "metadata": {},
   "outputs": [
    {
     "data": {
      "text/plain": [
       "tensor([[ 0,  1,  2],\n",
       "        [ 3,  4,  5],\n",
       "        [ 6,  7,  8],\n",
       "        [ 9, 10, 11]])"
      ]
     },
     "execution_count": 166,
     "metadata": {},
     "output_type": "execute_result"
    }
   ],
   "source": [
    "X = x.reshape(4, -1) # 四行\n",
    "X"
   ]
  },
  {
   "cell_type": "markdown",
   "id": "a2d5f74e",
   "metadata": {},
   "source": [
    "有时我们需要创建其他类型的张量，可以用以下方法："
   ]
  },
  {
   "cell_type": "code",
   "execution_count": 167,
   "id": "0617c096",
   "metadata": {},
   "outputs": [
    {
     "data": {
      "text/plain": [
       "tensor([[[0., 0., 0., 0.],\n",
       "         [0., 0., 0., 0.],\n",
       "         [0., 0., 0., 0.]],\n",
       "\n",
       "        [[0., 0., 0., 0.],\n",
       "         [0., 0., 0., 0.],\n",
       "         [0., 0., 0., 0.]]])"
      ]
     },
     "execution_count": 167,
     "metadata": {},
     "output_type": "execute_result"
    }
   ],
   "source": [
    "torch.zeros(2, 3, 4) # 创建一个2 * 3 * 4的全0张量"
   ]
  },
  {
   "cell_type": "code",
   "execution_count": 168,
   "id": "39b0fa6d",
   "metadata": {},
   "outputs": [
    {
     "data": {
      "text/plain": [
       "tensor([1., 1., 1.])"
      ]
     },
     "execution_count": 168,
     "metadata": {},
     "output_type": "execute_result"
    }
   ],
   "source": [
    "torch.ones(3) # 创建一个长为3的全1张量，注: 参数为为3表示向量，为(1, 3)时表示矩阵"
   ]
  },
  {
   "cell_type": "code",
   "execution_count": 169,
   "id": "804f8f5f",
   "metadata": {},
   "outputs": [
    {
     "data": {
      "text/plain": [
       "tensor([[ 1.1026,  1.3607, -2.2431]])"
      ]
     },
     "execution_count": 169,
     "metadata": {},
     "output_type": "execute_result"
    }
   ],
   "source": [
    "torch.randn(1, 3) # 创建一个1 * 3的，内部元素服从标准高斯分布（正态分布）的张量"
   ]
  },
  {
   "cell_type": "markdown",
   "id": "e8c8eef8",
   "metadata": {},
   "source": [
    "此外，还可以使用tensor()方法，将python列表作为参数构建张量。"
   ]
  },
  {
   "cell_type": "code",
   "execution_count": 170,
   "id": "772fce66",
   "metadata": {},
   "outputs": [
    {
     "data": {
      "text/plain": [
       "tensor([[1, 2, 3],\n",
       "        [4, 5, 6]])"
      ]
     },
     "execution_count": 170,
     "metadata": {},
     "output_type": "execute_result"
    }
   ],
   "source": [
    "torch.tensor([[1, 2, 3], [4, 5, 6]])"
   ]
  },
  {
   "cell_type": "markdown",
   "id": "e742c475",
   "metadata": {},
   "source": [
    "## **2.1.2 运算符**"
   ]
  },
  {
   "cell_type": "markdown",
   "id": "dfa99b77",
   "metadata": {},
   "source": [
    "张量是数据的表示，想要利用好这些数据，就要在张量上执行数学运算。最简单且有用的运算类型为**按元素**运算，运算对象可以为一个或多个张量。"
   ]
  },
  {
   "cell_type": "code",
   "execution_count": 171,
   "id": "5fbf610c",
   "metadata": {},
   "outputs": [
    {
     "data": {
      "text/plain": [
       "(tensor([0, 1, 3, 7]),\n",
       " tensor([4, 4, 4, 4]),\n",
       " tensor([ 3,  4,  6, 10]),\n",
       " tensor([-1,  0,  2,  6]),\n",
       " tensor([ 2,  4,  8, 16]),\n",
       " tensor([0.5000, 1.0000, 2.0000, 4.0000]),\n",
       " tensor([ 1,  4, 16, 64]))"
      ]
     },
     "execution_count": 171,
     "metadata": {},
     "output_type": "execute_result"
    }
   ],
   "source": [
    "x = torch.tensor([1, 2, 4, 8])\n",
    "y = torch.tensor([2, 2, 2, 2])\n",
    "x - 1, y * 2, x + y, x - y, x * y, x / y, x ** y # 加、减、乘、除、求幂"
   ]
  },
  {
   "cell_type": "markdown",
   "id": "a4add9ba",
   "metadata": {},
   "source": [
    "“按元素”方式的应用很广，除了上面几种基本运算符外，还有一些方法，如："
   ]
  },
  {
   "cell_type": "code",
   "execution_count": 172,
   "id": "2c6939f5",
   "metadata": {},
   "outputs": [
    {
     "data": {
      "text/plain": [
       "tensor([2.7183e+00, 7.3891e+00, 5.4598e+01, 2.9810e+03])"
      ]
     },
     "execution_count": 172,
     "metadata": {},
     "output_type": "execute_result"
    }
   ],
   "source": [
    "torch.exp(x)"
   ]
  },
  {
   "cell_type": "markdown",
   "id": "302d5fb0",
   "metadata": {},
   "source": [
    "除了按元素计算，还有各种线性代数运算，例如向量点积、矩阵乘法等，这些在后面的学习中会解释。"
   ]
  },
  {
   "cell_type": "markdown",
   "id": "25462065",
   "metadata": {},
   "source": [
    "我们可以把多个张量在某个维度上拼接（concatenate）在一起，形成更大的张量。"
   ]
  },
  {
   "cell_type": "code",
   "execution_count": 173,
   "id": "2d8cc9d6",
   "metadata": {
    "scrolled": true
   },
   "outputs": [
    {
     "name": "stdout",
     "output_type": "stream",
     "text": [
      "torch.float32 torch.int64\n"
     ]
    },
    {
     "data": {
      "text/plain": [
       "(tensor([[ 0.,  1.,  2.,  3.],\n",
       "         [ 4.,  5.,  6.,  7.],\n",
       "         [ 8.,  9., 10., 11.],\n",
       "         [ 2.,  1.,  4.,  3.],\n",
       "         [ 1.,  2.,  3.,  4.],\n",
       "         [ 4.,  3.,  2.,  1.]]),\n",
       " torch.float32,\n",
       " tensor([[ 0.,  1.,  2.,  3.,  2.,  1.,  4.,  3.],\n",
       "         [ 4.,  5.,  6.,  7.,  1.,  2.,  3.,  4.],\n",
       "         [ 8.,  9., 10., 11.,  4.,  3.,  2.,  1.]]),\n",
       " torch.float32)"
      ]
     },
     "execution_count": 173,
     "metadata": {},
     "output_type": "execute_result"
    }
   ],
   "source": [
    "X = torch.arange(12, dtype=torch.float32).reshape(3, 4) # dype指定张量内元素是torch中的32位浮点型\n",
    "Y = torch.tensor([[2, 1, 4, 3], [1, 2, 3, 4], [4, 3, 2, 1]])\n",
    "print(X.dtype, Y.dtype)\n",
    "Z1 = torch.cat((X, Y), dim=0)\n",
    "Z2 = torch.cat((X, Y), dim=1)\n",
    "Z1, Z1.dtype, Z2, Z2.dtype"
   ]
  },
  {
   "cell_type": "markdown",
   "id": "2718a19e",
   "metadata": {},
   "source": [
    "我们还能通过逻辑运算符构建张量。以X == Y（尺寸一致）为例：对于X和Y每个对应位置上的元素，若相等，则逻辑张量该位置的值为True，否则为False。"
   ]
  },
  {
   "cell_type": "code",
   "execution_count": 174,
   "id": "b66b4bb8",
   "metadata": {},
   "outputs": [
    {
     "data": {
      "text/plain": [
       "tensor([[False,  True, False,  True],\n",
       "        [False, False, False, False],\n",
       "        [False, False, False, False]])"
      ]
     },
     "execution_count": 174,
     "metadata": {},
     "output_type": "execute_result"
    }
   ],
   "source": [
    "X == Y"
   ]
  },
  {
   "cell_type": "markdown",
   "id": "99e77168",
   "metadata": {},
   "source": [
    "使用sum()方法对张量的每个元素求和，可以得到一个0维张量："
   ]
  },
  {
   "cell_type": "code",
   "execution_count": 175,
   "id": "4360693e",
   "metadata": {},
   "outputs": [
    {
     "data": {
      "text/plain": [
       "tensor(66.)"
      ]
     },
     "execution_count": 175,
     "metadata": {},
     "output_type": "execute_result"
    }
   ],
   "source": [
    "X.sum()"
   ]
  },
  {
   "cell_type": "markdown",
   "id": "b4fe67c7",
   "metadata": {},
   "source": [
    "## 2.1.3 广播机制"
   ]
  },
  {
   "cell_type": "markdown",
   "id": "8f4ba67c",
   "metadata": {},
   "source": [
    "在2.1.2节中学习张量的“按元素”计算时，参与运算的张量的尺寸通常是一致的，在某些情况下，即使形状不同，我们也可以通过广播机制（broadcasting mechanism）来实现“按元素”计算。这种机制的工作原理如下：\n",
    "1. 通过复制元素来对张量进行扩展，使扩展后的张量具有相同的尺寸；\n",
    "2. 对生成的张量执行“按元素”计算。\n",
    "\n",
    "张量将沿着长度为1的维度进行广播，例如："
   ]
  },
  {
   "cell_type": "code",
   "execution_count": 176,
   "id": "c130bb29",
   "metadata": {},
   "outputs": [
    {
     "data": {
      "text/plain": [
       "(tensor([[0],\n",
       "         [1],\n",
       "         [2]]),\n",
       " tensor([[0, 1]]),\n",
       " tensor([[0, 1],\n",
       "         [1, 2],\n",
       "         [2, 3]]))"
      ]
     },
     "execution_count": 176,
     "metadata": {},
     "output_type": "execute_result"
    }
   ],
   "source": [
    "a = torch.arange(3).reshape(3, 1)\n",
    "b = torch.arange(2).reshape(1, 2)\n",
    "a, b, a + b"
   ]
  },
  {
   "cell_type": "markdown",
   "id": "98c3da6a",
   "metadata": {},
   "source": [
    "例中，a张量将第一列复制到其他列，直到与b列数相同，b张量将复制到其他行，直到与a行数相同，然后再进行相加。"
   ]
  },
  {
   "cell_type": "markdown",
   "id": "5332bb55",
   "metadata": {},
   "source": [
    "## 2.1.4 索引和切片"
   ]
  },
  {
   "cell_type": "markdown",
   "id": "e018fe15",
   "metadata": {},
   "source": [
    "和python数组一样，张量中的元素可以通过索引或切片访问。"
   ]
  },
  {
   "cell_type": "code",
   "execution_count": 177,
   "id": "7e46498e",
   "metadata": {},
   "outputs": [
    {
     "data": {
      "text/plain": [
       "(tensor([[ 0.,  1.,  2.,  3.],\n",
       "         [ 4.,  5.,  6.,  7.],\n",
       "         [ 8.,  9., 10., 11.]]),\n",
       " tensor([ 8.,  9., 10., 11.]),\n",
       " tensor([[ 4.,  5.,  6.,  7.],\n",
       "         [ 8.,  9., 10., 11.]]))"
      ]
     },
     "execution_count": 177,
     "metadata": {},
     "output_type": "execute_result"
    }
   ],
   "source": [
    "X = torch.arange(12, dtype=torch.float32).reshape(3, 4) # dype指定张量内元素是torch中的32位浮点型\n",
    "X, X[-1], X[1:3]"
   ]
  },
  {
   "cell_type": "markdown",
   "id": "f5f55d3b",
   "metadata": {},
   "source": [
    "除读取外，还能利用索引和切片对张量元素进行修改。"
   ]
  },
  {
   "cell_type": "code",
   "execution_count": 178,
   "id": "b22a2343",
   "metadata": {},
   "outputs": [
    {
     "data": {
      "text/plain": [
       "tensor([[ 0.,  1.,  2.,  3.],\n",
       "        [ 4.,  5.,  9.,  7.],\n",
       "        [ 8.,  9., 10., 11.]])"
      ]
     },
     "execution_count": 178,
     "metadata": {},
     "output_type": "execute_result"
    }
   ],
   "source": [
    "X[1, 2] = 9\n",
    "X"
   ]
  },
  {
   "cell_type": "markdown",
   "id": "967d66ac",
   "metadata": {},
   "source": [
    "如果想为多个元素赋值，也只需要利用它们的索引。"
   ]
  },
  {
   "cell_type": "code",
   "execution_count": 179,
   "id": "e875e0e0",
   "metadata": {},
   "outputs": [
    {
     "data": {
      "text/plain": [
       "tensor([[ 0., 12., 12., 12.],\n",
       "        [ 4., 12., 12., 12.],\n",
       "        [ 8.,  9., 10., 11.]])"
      ]
     },
     "execution_count": 179,
     "metadata": {},
     "output_type": "execute_result"
    }
   ],
   "source": [
    "X[:2, 1:] = 12 # 在索引框[]中，用逗号“,”隔开X每个维度上的索引，:2代表前两行，:代表第1列（逻辑上的第2列）到最后\n",
    "X"
   ]
  },
  {
   "cell_type": "markdown",
   "id": "0338ef1d",
   "metadata": {},
   "source": [
    "## 2.1.5 节省内存"
   ]
  },
  {
   "cell_type": "markdown",
   "id": "75666fbe",
   "metadata": {},
   "source": [
    "执行一些操作可能会导致为结果重新分配内存。"
   ]
  },
  {
   "cell_type": "code",
   "execution_count": 180,
   "id": "2b3dc366",
   "metadata": {},
   "outputs": [
    {
     "data": {
      "text/plain": [
       "False"
      ]
     },
     "execution_count": 180,
     "metadata": {},
     "output_type": "execute_result"
    }
   ],
   "source": [
    "X = torch.arange(12, dtype=torch.float32).reshape(3, 4) # dype指定张量内元素是torch中的32位浮点型\n",
    "Y = torch.tensor([[2.0, 1, 4, 3], [1, 2, 3, 4], [4, 3, 2, 1]])\n",
    "\n",
    "before = id(Y)\n",
    "Y = Y + X\n",
    "id(Y) == before"
   ]
  },
  {
   "cell_type": "markdown",
   "id": "0729e61f",
   "metadata": {},
   "source": [
    "在这个例子中，python先计算Y + X，为结果分配新的内存，再令Y指向新内存的位置。\n",
    "这是可能是不可取的，有以下两个原因：\n",
    "1. 如果不原地更新，其他引用仍然会指向旧的内存位置，导致代码可能无意中引用旧的参数。\n",
    "2. 通常情况下，我们希望原地执行张量的更新，无需不必要地分配内存，节省开销。\n",
    "\n",
    "幸运的是，执行原地操作非常简单。我们可以用切片表示法，将计算的结果分配给与原数组切片对应的原内存中。如Y[:] = \\<expression>。同时，使用组合赋值符，如“+=”，也可以进行原地操作。"
   ]
  },
  {
   "cell_type": "code",
   "execution_count": 181,
   "id": "ffa19211",
   "metadata": {},
   "outputs": [
    {
     "name": "stdout",
     "output_type": "stream",
     "text": [
      "id(Z) = 2722590477744\n",
      "id(Z) = 2722590477744\n"
     ]
    }
   ],
   "source": [
    "Z = torch.zeros_like(Y) # 创建尺寸与Y相同的全0张量\n",
    "print('id(Z) =', id(Z))\n",
    "Z[:] = X + Y # 将X + Y的结果分配给先前分配的数组\n",
    "Z += Z # 组合赋值\n",
    "print('id(Z) =', id(Z))"
   ]
  },
  {
   "cell_type": "markdown",
   "id": "2db20a28",
   "metadata": {},
   "source": [
    "## 2.1.6 转换为其他Python对象"
   ]
  },
  {
   "cell_type": "markdown",
   "id": "05c0456d",
   "metadata": {},
   "source": [
    "将深度学习框架定义的张量转换为numpy数组（ndarray）很容易，反之也同样容易。"
   ]
  },
  {
   "cell_type": "code",
   "execution_count": 182,
   "id": "d38933f6",
   "metadata": {},
   "outputs": [
    {
     "data": {
      "text/plain": [
       "(numpy.ndarray, torch.Tensor, 2722589309136, 2722590587776, 2722590585456)"
      ]
     },
     "execution_count": 182,
     "metadata": {},
     "output_type": "execute_result"
    }
   ],
   "source": [
    "A = X.numpy() # 将torch张量转换为numpy数组\n",
    "B = torch.tensor(A) # 将numpy数组转换为torch张量\n",
    "type(A), type(B), id(A), id(X), id(B)"
   ]
  },
  {
   "cell_type": "markdown",
   "id": "b0d25109",
   "metadata": {},
   "source": [
    "要将大小为1的张量转换成python标量,可以调用item()方法或python的内置方法，如int()"
   ]
  },
  {
   "cell_type": "code",
   "execution_count": 183,
   "id": "62ab6f6d",
   "metadata": {},
   "outputs": [
    {
     "data": {
      "text/plain": [
       "(tensor([3.5000]), 3.5, 3.5, 3)"
      ]
     },
     "execution_count": 183,
     "metadata": {},
     "output_type": "execute_result"
    }
   ],
   "source": [
    "a = torch.tensor([3.5])\n",
    "a, a.item(), float(a), int(a)"
   ]
  }
 ],
 "metadata": {
  "kernelspec": {
   "display_name": "pytorch",
   "language": "python",
   "name": "facenet"
  },
  "language_info": {
   "codemirror_mode": {
    "name": "ipython",
    "version": 3
   },
   "file_extension": ".py",
   "mimetype": "text/x-python",
   "name": "python",
   "nbconvert_exporter": "python",
   "pygments_lexer": "ipython3",
   "version": "3.8.0"
  }
 },
 "nbformat": 4,
 "nbformat_minor": 5
}
