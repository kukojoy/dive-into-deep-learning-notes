{
 "cells": [
  {
   "cell_type": "markdown",
   "id": "c4cc271d",
   "metadata": {},
   "source": [
    "# 2.2 数据预处理"
   ]
  },
  {
   "cell_type": "markdown",
   "id": "51afc8bc",
   "metadata": {},
   "source": [
    "为了能用深度学习来解决真实世界的问题，需要从现实中获取海量数据，这些原始数据通常需要经过预处理后，才能够转化为torch张量的格式，进行进一步的计算与分析。\n",
    "在python数据分析工具中，通常使用pandas库，它能很好地与torch张量兼容。本节主要介绍使用pandas预处理原始数据，并将其转换为张量格式的步骤。后面再学习各种数据预处理技术。"
   ]
  },
  {
   "cell_type": "markdown",
   "id": "e3648705",
   "metadata": {},
   "source": [
    "## 2.2.1 读取数据集"
   ]
  },
  {
   "cell_type": "markdown",
   "id": "3b06e2d1",
   "metadata": {},
   "source": [
    "举个例子，我们先创建一个人工数据集，并存储在.csv文件（../data/house_tiny.csv）中。以其他格式存储的数据也可以通过类似的方法操作。"
   ]
  },
  {
   "cell_type": "code",
   "execution_count": 1,
   "id": "e72422db",
   "metadata": {},
   "outputs": [],
   "source": [
    "import os # 导入os库\n",
    "\n",
    "# 创建文件夹，路径为“./data”，exist_ok=True表示当文件夹已经存在时不会报警，无论是True还是False，都不会覆盖已存在的文件夹。\n",
    "# 创建路径中./代表当前文件所在的目录，../代表当前文件所在的目录所在的目录，也就是上一级目录\n",
    "os.makedirs(os.path.join('.', 'data'), exist_ok=True) \n",
    "\n",
    "# os.path.join函数返回一个字符串，表示连接后的路径。这里是数据文件的路径，为“./data/house_tiny.csv”\n",
    "# 使用os.path.join，可以在构建文件路径时不必担心使用操作系统特定的路径分隔符（如/或\\）。这样可以编写更具可移植性的代码。\n",
    "data_file = os.path.join('.', 'data', 'house_tiny.csv')\n",
    "\n",
    "with open(data_file, 'w') as f:\n",
    "    # 如果data_file指定的文件不存在，Python会自动创建一个新文件，然后以写入模式打开该文件。\n",
    "    # 如果data_file指定的文件已经存在，将清空文件中的内容，然后开始写入新的内容。\n",
    "    \n",
    "    f.write('NumRooms,Alley,Price\\n') #  列名\n",
    "    f.write('NA,Pave,12750.2\\n') # 每一行表示一个数据样本\n",
    "    f.write('2,NA,106000\\n')\n",
    "    f.write('4,NA,178100\\n')\n",
    "    f.write('NA,NA,140000\\n')"
   ]
  },
  {
   "cell_type": "markdown",
   "id": "bf269936",
   "metadata": {},
   "source": [
    "要从创建的.csv文件中读取原始的数据集，我们导入pandas包并调用read_csv函数。该数据集有四行三列，每行是一个样本，每列是一个特征或标签，分别是NumRooms、Alley、Price，其中Price是标签。"
   ]
  },
  {
   "cell_type": "code",
   "execution_count": 2,
   "id": "f54f0e4d",
   "metadata": {},
   "outputs": [
    {
     "name": "stdout",
     "output_type": "stream",
     "text": [
      "   NumRooms Alley     Price\n",
      "0       NaN  Pave   12750.2\n",
      "1       2.0   NaN  106000.0\n",
      "2       4.0   NaN  178100.0\n",
      "3       NaN   NaN  140000.0 <class 'pandas.core.frame.DataFrame'>\n"
     ]
    }
   ],
   "source": [
    "import pandas as pd\n",
    "data = pd.read_csv(data_file)\n",
    "print(data, type(data))"
   ]
  },
  {
   "cell_type": "markdown",
   "id": "f318282c",
   "metadata": {},
   "source": [
    "在pandas中，默认情况下，它会将一些常见的缺失值标识符（如\"NA\"、\"N/A\"、\"NULL\"等）解释为缺失值（NaN，Not a Number）。这是为了方便处理数据时能够统一处理缺失值。"
   ]
  },
  {
   "cell_type": "markdown",
   "id": "7d86f6a2",
   "metadata": {},
   "source": [
    "## 2.2.2 处理缺失值 "
   ]
  },
  {
   "cell_type": "markdown",
   "id": "75d904be",
   "metadata": {},
   "source": [
    "NAN代表缺失值。处理缺失的数据的典型方法包括插值法和删除法，其中插值法用一个替代值弥补缺失值，如0，删除法则直接忽略缺失值，这里用插值法。"
   ]
  },
  {
   "cell_type": "code",
   "execution_count": 3,
   "id": "75a35eaa",
   "metadata": {},
   "outputs": [
    {
     "data": {
      "text/plain": [
       "0     12750.2\n",
       "1    106000.0\n",
       "2    178100.0\n",
       "3    140000.0\n",
       "Name: Price, dtype: float64"
      ]
     },
     "execution_count": 3,
     "metadata": {},
     "output_type": "execute_result"
    }
   ],
   "source": [
    "inputs, outputs = data.iloc[:, :-1], data.iloc[:, -1]\n",
    "outputs"
   ]
  },
  {
   "cell_type": "markdown",
   "id": "b51d483d",
   "metadata": {},
   "source": [
    "pandas类型的表格，可以用iloc属性获取索引中的元素，若直接data[:]不用iloc。这里是将前面的列看作特征，作为inputs；最后一列看作标签，作为outputs。"
   ]
  },
  {
   "cell_type": "code",
   "execution_count": 4,
   "id": "6f821076",
   "metadata": {},
   "outputs": [
    {
     "data": {
      "text/html": [
       "<div>\n",
       "<style scoped>\n",
       "    .dataframe tbody tr th:only-of-type {\n",
       "        vertical-align: middle;\n",
       "    }\n",
       "\n",
       "    .dataframe tbody tr th {\n",
       "        vertical-align: top;\n",
       "    }\n",
       "\n",
       "    .dataframe thead th {\n",
       "        text-align: right;\n",
       "    }\n",
       "</style>\n",
       "<table border=\"1\" class=\"dataframe\">\n",
       "  <thead>\n",
       "    <tr style=\"text-align: right;\">\n",
       "      <th></th>\n",
       "      <th>NumRooms</th>\n",
       "      <th>Alley_Pave</th>\n",
       "      <th>Alley_nan</th>\n",
       "    </tr>\n",
       "  </thead>\n",
       "  <tbody>\n",
       "    <tr>\n",
       "      <th>0</th>\n",
       "      <td>NaN</td>\n",
       "      <td>True</td>\n",
       "      <td>False</td>\n",
       "    </tr>\n",
       "    <tr>\n",
       "      <th>1</th>\n",
       "      <td>2.0</td>\n",
       "      <td>False</td>\n",
       "      <td>True</td>\n",
       "    </tr>\n",
       "    <tr>\n",
       "      <th>2</th>\n",
       "      <td>4.0</td>\n",
       "      <td>False</td>\n",
       "      <td>True</td>\n",
       "    </tr>\n",
       "    <tr>\n",
       "      <th>3</th>\n",
       "      <td>NaN</td>\n",
       "      <td>False</td>\n",
       "      <td>True</td>\n",
       "    </tr>\n",
       "  </tbody>\n",
       "</table>\n",
       "</div>"
      ],
      "text/plain": [
       "   NumRooms  Alley_Pave  Alley_nan\n",
       "0       NaN        True      False\n",
       "1       2.0       False       True\n",
       "2       4.0       False       True\n",
       "3       NaN       False       True"
      ]
     },
     "execution_count": 4,
     "metadata": {},
     "output_type": "execute_result"
    }
   ],
   "source": [
    "inputs = pd.get_dummies(inputs, dummy_na=True)\n",
    "inputs"
   ]
  },
  {
   "cell_type": "markdown",
   "id": "af1f32dd",
   "metadata": {},
   "source": [
    "对inputs的每一列进行处理，如果含有非数字元素(如Pave)，就对该列进行扩展，假如该列有n种不同的元素，就扩展为n列，也就是n类二元特征，对应的值变为True/False，用于指示原数据中该行的样本的该特征是否为该类。dummy_na=True表示将NAN也看作一类。"
   ]
  },
  {
   "cell_type": "code",
   "execution_count": 5,
   "id": "5eb88f61",
   "metadata": {},
   "outputs": [
    {
     "data": {
      "text/html": [
       "<div>\n",
       "<style scoped>\n",
       "    .dataframe tbody tr th:only-of-type {\n",
       "        vertical-align: middle;\n",
       "    }\n",
       "\n",
       "    .dataframe tbody tr th {\n",
       "        vertical-align: top;\n",
       "    }\n",
       "\n",
       "    .dataframe thead th {\n",
       "        text-align: right;\n",
       "    }\n",
       "</style>\n",
       "<table border=\"1\" class=\"dataframe\">\n",
       "  <thead>\n",
       "    <tr style=\"text-align: right;\">\n",
       "      <th></th>\n",
       "      <th>NumRooms</th>\n",
       "      <th>Alley_Pave</th>\n",
       "      <th>Alley_nan</th>\n",
       "    </tr>\n",
       "  </thead>\n",
       "  <tbody>\n",
       "    <tr>\n",
       "      <th>0</th>\n",
       "      <td>3.0</td>\n",
       "      <td>1</td>\n",
       "      <td>0</td>\n",
       "    </tr>\n",
       "    <tr>\n",
       "      <th>1</th>\n",
       "      <td>2.0</td>\n",
       "      <td>0</td>\n",
       "      <td>1</td>\n",
       "    </tr>\n",
       "    <tr>\n",
       "      <th>2</th>\n",
       "      <td>4.0</td>\n",
       "      <td>0</td>\n",
       "      <td>1</td>\n",
       "    </tr>\n",
       "    <tr>\n",
       "      <th>3</th>\n",
       "      <td>3.0</td>\n",
       "      <td>0</td>\n",
       "      <td>1</td>\n",
       "    </tr>\n",
       "  </tbody>\n",
       "</table>\n",
       "</div>"
      ],
      "text/plain": [
       "   NumRooms  Alley_Pave  Alley_nan\n",
       "0       3.0           1          0\n",
       "1       2.0           0          1\n",
       "2       4.0           0          1\n",
       "3       3.0           0          1"
      ]
     },
     "execution_count": 5,
     "metadata": {},
     "output_type": "execute_result"
    }
   ],
   "source": [
    "inputs[:] = inputs.fillna(inputs.mean()) # 对纯数字列每列取平均，插入该列的缺失值\n",
    "inputs[:] = inputs.astype(int) # 将bool值转换成0和1\n",
    "inputs"
   ]
  },
  {
   "cell_type": "markdown",
   "id": "c660ad1c",
   "metadata": {},
   "source": [
    "## 2.2.3 转换为张量格式 "
   ]
  },
  {
   "cell_type": "code",
   "execution_count": 6,
   "id": "56ce9f4c",
   "metadata": {},
   "outputs": [
    {
     "data": {
      "text/plain": [
       "(tensor([[3., 1., 0.],\n",
       "         [2., 0., 1.],\n",
       "         [4., 0., 1.],\n",
       "         [3., 0., 1.]], dtype=torch.float64),\n",
       " tensor([ 12750.2000, 106000.0000, 178100.0000, 140000.0000],\n",
       "        dtype=torch.float64))"
      ]
     },
     "execution_count": 6,
     "metadata": {},
     "output_type": "execute_result"
    }
   ],
   "source": [
    "import torch\n",
    "# pandas表格的values属性是一个numpy数组，除去了列名和行名\n",
    "X, y = torch.tensor(inputs.values), torch.tensor(outputs.values)\n",
    "X, y"
   ]
  }
 ],
 "metadata": {
  "kernelspec": {
   "display_name": "pytorch",
   "language": "python",
   "name": "facenet"
  },
  "language_info": {
   "codemirror_mode": {
    "name": "ipython",
    "version": 3
   },
   "file_extension": ".py",
   "mimetype": "text/x-python",
   "name": "python",
   "nbconvert_exporter": "python",
   "pygments_lexer": "ipython3",
   "version": "3.8.0"
  }
 },
 "nbformat": 4,
 "nbformat_minor": 5
}
