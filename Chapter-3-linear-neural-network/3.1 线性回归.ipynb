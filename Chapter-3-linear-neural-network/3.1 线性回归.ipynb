{
 "cells": [
  {
   "cell_type": "markdown",
   "id": "c52da071",
   "metadata": {},
   "source": [
    "# 3.1 线性回归"
   ]
  },
  {
   "cell_type": "markdown",
   "id": "75fcd972",
   "metadata": {},
   "source": [
    "在机器学习领域中，大多数任务通常都与预测（prediction）有关，若预测值为连续值（如股票价格），称为“回归问题”，若为离散值（如骰子点数），称为“分类问题”。"
   ]
  },
  {
   "cell_type": "markdown",
   "id": "4b913a48",
   "metadata": {},
   "source": [
    "## 3.1.1 线性回归的基本元素"
   ]
  },
  {
   "cell_type": "markdown",
   "id": "0bada702",
   "metadata": {},
   "source": [
    "线性回归（linear regression）是一种最简单且最流行的回归方法。它基于几个简单的假设：首先，自变量x与因变量y之间呈线性关系，即y可以表示为x中元素的加权和，且通常允许包含观测值的一些噪声。其次，任何噪声都遵循正态分布。\n",
    "\n",
    "举个例子，假设我们希望根据房屋的面积（平方米）和房龄（年）来估算房屋价格（元），会先收集一个真实的数据集，称为训练集（training dataset），这个\n",
    "数据集中有很多个样本（sample/data point/instance），每个样本都含有房屋的面积、房龄（称为特征，feture）和房屋价格（称为标签，label）。\n",
    "\n",
    "通常，我们使用n来表示数据集中的样本数。在本例中，索引为i的样本，其输入表示为$ \\boldsymbol{x}^{(i)} = [x_1^{(i)}, x_2^{(i)}]^T $，对应的标签为$ y^{(i)} $。"
   ]
  },
  {
   "cell_type": "markdown",
   "id": "da4c5965",
   "metadata": {},
   "source": [
    "### 1 线性模型"
   ]
  },
  {
   "cell_type": "markdown",
   "id": "35496351",
   "metadata": {},
   "source": [
    "在本例中，如果做出线性假设，则有\n",
    "\n",
    "$$ price = w_{area} \\cdot area + w_{age} \\cdot age + b $$\n",
    "\n",
    "式中，$ w_{area} $和$ w_{age} $称为权重（weight），$ b $称为偏置/截距（bias/intercept）。\n",
    "\n",
    "给定一个数据集，我们的目标是寻找模型的$ \\boldsymbol{w} $和$ b $，使模型做出的预测能很好地估计真实价格。"
   ]
  },
  {
   "cell_type": "markdown",
   "id": "0e1122ef",
   "metadata": {},
   "source": [
    "在机器学习中，我们通常使用高维的数据集。假设我们的输入包含$ d $个特征，则预测结果$ \\hat{y} $可表示为：\n",
    "\n",
    "$$ \\hat{y} = \\boldsymbol{w} ^Tx + b $$\n",
    "\n",
    "假设用X表示整个数据集，即每行代表了一个样本的各个特征值，则：\n",
    "\n",
    "$$ \\hat{\\boldsymbol{y}} = \\boldsymbol{Xw} + b $$\n",
    "\n",
    "但是，我们几乎不能完美预测，即对于所有的样本i，都满足$ y^{(i)} = \\boldsymbol{w}^Tx^{(i)} + b $。因此，在寻找最佳的模型参数$ \\boldsymbol{w} $和$ b $时，我们还需要两个工具：（1）一种衡量模型好坏的标准；（2）一种能更新模型，使模型变得更好的方法。"
   ]
  },
  {
   "cell_type": "code",
   "execution_count": null,
   "id": "a1aa0ea9",
   "metadata": {},
   "outputs": [],
   "source": []
  }
 ],
 "metadata": {
  "kernelspec": {
   "display_name": "pytorch",
   "language": "python",
   "name": "facenet"
  },
  "language_info": {
   "codemirror_mode": {
    "name": "ipython",
    "version": 3
   },
   "file_extension": ".py",
   "mimetype": "text/x-python",
   "name": "python",
   "nbconvert_exporter": "python",
   "pygments_lexer": "ipython3",
   "version": "3.8.0"
  }
 },
 "nbformat": 4,
 "nbformat_minor": 5
}
